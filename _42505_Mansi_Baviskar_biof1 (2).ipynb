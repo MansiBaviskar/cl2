{
  "cells": [
    {
      "cell_type": "markdown",
      "id": "e639dde1",
      "metadata": {
        "id": "e639dde1"
      },
      "source": [
        "Name:Mansi Baviskar\n",
        "\n",
        "Roll No: 42505\n",
        "\n",
        "Bioinformatics Assignment 1\n",
        "\n",
        "DNA Sequence Analysis. Task: Analyze a given DNA sequence and perform basic sequence\n",
        "manipulation, including finding motifs, calculating GC content, and identifying coding regions. Deliverable: A\n",
        "report summarizing the analysis results and any insights gained from the sequence."
      ]
    },
    {
      "cell_type": "code",
      "execution_count": null,
      "id": "9a840191",
      "metadata": {
        "id": "9a840191",
        "outputId": "c464720d-0b19-4139-a743-f2ad07a44326"
      },
      "outputs": [
        {
          "name": "stdout",
          "output_type": "stream",
          "text": [
            "Collecting biopython\n",
            "  Obtaining dependency information for biopython from https://files.pythonhosted.org/packages/89/38/e45df36e10de29141ba0e5d94bfb942925e62cb6ad182e58b74fa5edcfcc/biopython-1.84-cp311-cp311-win_amd64.whl.metadata\n",
            "  Downloading biopython-1.84-cp311-cp311-win_amd64.whl.metadata (13 kB)\n",
            "Requirement already satisfied: numpy in c:\\users\\mukul\\anaconda3\\lib\\site-packages (from biopython) (1.24.3)\n",
            "Downloading biopython-1.84-cp311-cp311-win_amd64.whl (2.8 MB)\n",
            "   ---------------------------------------- 0.0/2.8 MB ? eta -:--:--\n",
            "   ---------------------------------------- 0.0/2.8 MB ? eta -:--:--\n",
            "   ---------------------------------------- 0.0/2.8 MB ? eta -:--:--\n",
            "   ---------------------------------------- 0.0/2.8 MB 217.9 kB/s eta 0:00:13\n",
            "    --------------------------------------- 0.0/2.8 MB 245.8 kB/s eta 0:00:12\n",
            "   - -------------------------------------- 0.1/2.8 MB 357.2 kB/s eta 0:00:08\n",
            "   -- ------------------------------------- 0.2/2.8 MB 612.6 kB/s eta 0:00:05\n",
            "   --- ------------------------------------ 0.2/2.8 MB 838.1 kB/s eta 0:00:04\n",
            "   ----- ---------------------------------- 0.4/2.8 MB 1.3 MB/s eta 0:00:02\n",
            "   ------- -------------------------------- 0.5/2.8 MB 1.5 MB/s eta 0:00:02\n",
            "   -------------- ------------------------- 1.0/2.8 MB 2.4 MB/s eta 0:00:01\n",
            "   ---------------- ----------------------- 1.1/2.8 MB 2.4 MB/s eta 0:00:01\n",
            "   ------------------------- -------------- 1.8/2.8 MB 3.5 MB/s eta 0:00:01\n",
            "   ----------------------------- ---------- 2.1/2.8 MB 3.8 MB/s eta 0:00:01\n",
            "   -------------------------------- ------- 2.3/2.8 MB 3.7 MB/s eta 0:00:01\n",
            "   ---------------------------------------  2.8/2.8 MB 4.2 MB/s eta 0:00:01\n",
            "   ---------------------------------------- 2.8/2.8 MB 4.1 MB/s eta 0:00:00\n",
            "Installing collected packages: biopython\n",
            "Successfully installed biopython-1.84\n",
            "Note: you may need to restart the kernel to use updated packages.\n"
          ]
        }
      ],
      "source": [
        "pip install biopython"
      ]
    },
    {
      "cell_type": "code",
      "execution_count": null,
      "id": "0a01f034",
      "metadata": {
        "id": "0a01f034"
      },
      "outputs": [],
      "source": [
        "import Bio\n",
        "from Bio.Seq import Seq\n",
        "from Bio.SeqUtils import gc_fraction"
      ]
    },
    {
      "cell_type": "code",
      "execution_count": null,
      "id": "8c7cfa71",
      "metadata": {
        "id": "8c7cfa71"
      },
      "outputs": [],
      "source": [
        "dna_sequence =\"AGTCAGTAGACTAGCTAGCTAGCTAGCTAGCTAGCTAGCTAGCTAGCTAGCTAGCTAGCTAGCTAGCTAC\""
      ]
    },
    {
      "cell_type": "code",
      "execution_count": null,
      "id": "5a116804",
      "metadata": {
        "id": "5a116804"
      },
      "outputs": [],
      "source": [
        "# Creating object for Seq\n",
        "seq =Seq(dna_sequence)"
      ]
    },
    {
      "cell_type": "markdown",
      "id": "b146756d",
      "metadata": {
        "id": "b146756d"
      },
      "source": [
        "Creating Functions"
      ]
    },
    {
      "cell_type": "code",
      "execution_count": null,
      "id": "192146c4",
      "metadata": {
        "id": "192146c4"
      },
      "outputs": [],
      "source": [
        "# Function to find motifs in the sequence\n",
        "def find_motifs(sequence, motif):\n",
        "    positions = [i for i in range(len(sequence)-len(motif)+1) if sequence[i:i+len(motif)] == motif]\n",
        "    return positions"
      ]
    },
    {
      "cell_type": "markdown",
      "source": [
        "# Initialize an empty list to store the positions where the motif is found\n",
        "positions = []\n",
        "\n",
        "\n",
        "\n",
        "# Loop over the range from 0 to the point where the motif can fit in the sequence\n",
        "for i in range(len(sequence) - len(motif) + 1):\n",
        "    \n",
        "    # Check if the substring of sequence starting at i matches the motif\n",
        "    if sequence[i:i + len(motif)] == motif:\n",
        "        \n",
        "        # If a match is found, append the position (i) to the positions list\n",
        "        positions.append(i)"
      ],
      "metadata": {
        "id": "2-wX4e8awfM1"
      },
      "id": "2-wX4e8awfM1"
    },
    {
      "cell_type": "code",
      "execution_count": null,
      "id": "befb5d4c",
      "metadata": {
        "id": "befb5d4c"
      },
      "outputs": [],
      "source": [
        "# Function to identify coding regions\n",
        "def identify_coding_regions(sequence):\n",
        "    start_codon =\"ATG\"\n",
        "    stop_codons =[\"TAA\", \"TAG\", \"TGA\"]\n",
        "    coding_regions =[]\n",
        "    i =0\n",
        "    while i<len(sequence):\n",
        "        if sequence[i:i+3]==start_codon:\n",
        "            start_index =i\n",
        "            i +=3\n",
        "            while i<len(sequence):\n",
        "                if sequence[i:i+3]in stop_codons:\n",
        "                    stop_index =i+3\n",
        "                    coding_regions.append((start_index,stop_index))\n",
        "                    break\n",
        "                i +=3\n",
        "            else:\n",
        "                i +=1\n",
        "        else:\n",
        "            i +=1\n",
        "    return coding_regions"
      ]
    },
    {
      "cell_type": "code",
      "execution_count": null,
      "id": "e373e932",
      "metadata": {
        "id": "e373e932"
      },
      "outputs": [],
      "source": [
        "# Finding Motifs\n",
        "motif1 =\"AGCTAGCTA\"\n",
        "motif2 =\"CTAGCTAGC\"\n",
        "motif1_positions =find_motifs(str(seq),motif1)\n",
        "motif2_positions =find_motifs(seq,motif2)\n"
      ]
    },
    {
      "cell_type": "markdown",
      "id": "2b0ff128",
      "metadata": {
        "id": "2b0ff128"
      },
      "source": [
        "GC Content and Coding Regions"
      ]
    },
    {
      "cell_type": "code",
      "execution_count": null,
      "id": "f26a7003",
      "metadata": {
        "id": "f26a7003"
      },
      "outputs": [],
      "source": [
        "# Calculating GC content\n",
        "gc_content =gc_fraction(seq)"
      ]
    },
    {
      "cell_type": "code",
      "execution_count": null,
      "id": "3c83df71",
      "metadata": {
        "id": "3c83df71"
      },
      "outputs": [],
      "source": [
        "# Identifying coding regions\n",
        "coding_regions =identify_coding_regions(seq)"
      ]
    },
    {
      "cell_type": "code",
      "execution_count": null,
      "id": "44b2fd49",
      "metadata": {
        "id": "44b2fd49"
      },
      "outputs": [],
      "source": [
        "# Generating a Report\n",
        "report =\"DNA Sequence Analysis Report\\n\\n\"\n",
        "report +=f\"Provided DNA Sequence:\\n{seq}\"\n",
        "report +=\"\\n\\nAnalysis 1:Finding Motifs\\n\"\n",
        "report +=f\"Motif 1({motif1})found at positions:{motif1_positions}\\n\"\n",
        "report +=f\"Motif 2({motif2})found at positions:{motif2_positions}\\n\\n\"\n",
        "report +=\"Analysis 2:Calculating GC Content\\n\"\n",
        "report +=f\"GC Content:{gc_content:.2%}\\n\\n\"\n",
        "report +=\"Analysis 3:Identifying Coding Regions\\n\"\n",
        "if len(coding_regions)>0:\n",
        "    report +=\"Coding regions found:\\n\"\n",
        "    for start,stop in coding_regions:\n",
        "        report +=f\"Start:{start}Stop:{stop}\\n\"\n",
        "else:\n",
        "    report +=\"No coding regions found in the sequence.\"\n",
        "\n",
        "with open(\"DNA_SEQUENCE_ANALYSIS.txt\",\"w\")as report_file:\n",
        "    report_file.write(report)"
      ]
    },
    {
      "cell_type": "code",
      "execution_count": null,
      "id": "f9786bbd",
      "metadata": {
        "id": "f9786bbd",
        "outputId": "fda74b65-8060-4f83-b6e2-7139a820d910"
      },
      "outputs": [
        {
          "name": "stdout",
          "output_type": "stream",
          "text": [
            "Analysis report generated as 'DNA_SEQUENCE_ANALYSIS.txt'.\n"
          ]
        }
      ],
      "source": [
        "print(\"Analysis report generated as 'DNA_SEQUENCE_ANALYSIS.txt'.\")"
      ]
    },
    {
      "cell_type": "markdown",
      "id": "5320febd",
      "metadata": {
        "id": "5320febd"
      },
      "source": [
        "TXT OUTPUT:\n",
        "\n",
        "DNA Sequence Analysis Report\n",
        "\n",
        "Provided DNA Sequence:\n",
        "AGTCAGTAGACTAGCTAGCTAGCTAGCTAGCTAGCTAGCTAGCTAGCTAGCTAGCTAGCTAGCTAGCTAC\n",
        "\n",
        "Analysis 1:Finding Motifs\n",
        "Motif 1(AGCTAGCTA)found at positions:[12, 16, 20, 24, 28, 32, 36, 40, 44, 48, 52, 56, 60]\n",
        "Motif 2(CTAGCTAGC)found at positions:[10, 14, 18, 22, 26, 30, 34, 38, 42, 46, 50, 54, 58]\n",
        "\n",
        "Analysis 2:Calculating GC Content\n",
        "\n",
        "GC Content:48.57%\n",
        "\n",
        "Analysis 3:Identifying Coding Regions\n",
        "\n",
        "No coding regions found in the sequence."
      ]
    },
    {
      "cell_type": "code",
      "execution_count": null,
      "id": "903b0a3f",
      "metadata": {
        "id": "903b0a3f"
      },
      "outputs": [],
      "source": []
    }
  ],
  "metadata": {
    "kernelspec": {
      "display_name": "Python 3 (ipykernel)",
      "language": "python",
      "name": "python3"
    },
    "language_info": {
      "codemirror_mode": {
        "name": "ipython",
        "version": 3
      },
      "file_extension": ".py",
      "mimetype": "text/x-python",
      "name": "python",
      "nbconvert_exporter": "python",
      "pygments_lexer": "ipython3",
      "version": "3.11.5"
    },
    "colab": {
      "provenance": []
    }
  },
  "nbformat": 4,
  "nbformat_minor": 5
}