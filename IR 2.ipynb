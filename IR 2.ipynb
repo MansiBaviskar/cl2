{
 "cells": [
  {
   "cell_type": "markdown",
   "id": "32737a3a",
   "metadata": {},
   "source": [
    "Name : Mansi Baviskar<br>\n",
    "Roll No. : 42505<br>\n",
    "Branch : B.E AI&DS<br>\n",
    "Batch : B1<br>\n",
    "Computer Laboratory II : Information Retrieval"
   ]
  },
  {
   "cell_type": "markdown",
   "id": "df1e0308",
   "metadata": {},
   "source": [
    "### Assignment 2 : Implement a program for retrieval of documents using inverted files."
   ]
  },
  {
   "cell_type": "code",
   "execution_count": 1,
   "id": "c93344be",
   "metadata": {},
   "outputs": [],
   "source": [
    "from nltk.corpus import stopwords\n",
    "import nltk\n",
    "from nltk.stem import LancasterStemmer\n",
    "from nltk.tokenize import word_tokenize"
   ]
  },
  {
   "cell_type": "code",
   "execution_count": 2,
   "id": "44538f94",
   "metadata": {},
   "outputs": [],
   "source": [
    " stop_words = set(stopwords.words('english'))\n",
    "\n",
    "doc_dict = [\n",
    "    [\"d1\", \"Welcome to hotel heaven such a lovely place\"],\n",
    "    [\"d2\", \"She is buying a stairway to heaven\"],\n",
    "    [\"d3\", \"Don't make it bad\"],\n",
    "    [\"d4\", \"Take me to the heaven\"]\n",
    "]"
   ]
  },
  {
   "cell_type": "code",
   "execution_count": 4,
   "id": "b39d6d13",
   "metadata": {},
   "outputs": [
    {
     "name": "stdout",
     "output_type": "stream",
     "text": [
      "hotel\n",
      "Following documents found with the best match for querry []\n",
      "Following documents found with the exact match for querry ['d1']\n"
     ]
    }
   ],
   "source": [
    "doc_with_exact_match= []\n",
    "doc_with_best_match= []\n",
    "querry = input()\n",
    "for key, val in doc_dict:\n",
    "    \n",
    "    querry1 = word_tokenize(querry)\n",
    "    word_tokens = word_tokenize(val)\n",
    "\n",
    "    filtered_sentence = [w for w in word_tokens if not w.lower() in stop_words]\n",
    "\n",
    "    filtered_sentence = []\n",
    "\n",
    "    for w in word_tokens:\n",
    "        if w not in stop_words:\n",
    "            filtered_sentence.append(w)\n",
    "\n",
    "    flag = 0\n",
    "    for word in filtered_sentence:\n",
    "        \n",
    "        for w in querry1:\n",
    "            \n",
    "            if word.lower() == w.lower():\n",
    "                flag = 1\n",
    "                break;\n",
    "                \n",
    "    if flag == 1:\n",
    "        doc_with_best_match.append(key)\n",
    "    \n",
    "    exact_match = 1\n",
    "    for w in querry1:\n",
    "            flag = 0\n",
    "            for word in filtered_sentence:\n",
    "                \n",
    "                if word.lower() == w.lower():\n",
    "                    flag = 1\n",
    "                    \n",
    "            if flag == 0:\n",
    "                exact_match = 0\n",
    "                break\n",
    "    if exact_match == 1:\n",
    "        doc_with_best_match.remove(key)\n",
    "        doc_with_exact_match.append(key)\n",
    "        \n",
    "print(\"Following documents found with the best match for querry\", doc_with_best_match)\n",
    "print(\"Following documents found with the exact match for querry\", doc_with_exact_match)"
   ]
  },
  {
   "cell_type": "code",
   "execution_count": null,
   "id": "95ecff90",
   "metadata": {},
   "outputs": [],
   "source": [
    "from collections import defaultdict\n",
    "import re\n",
    "\n",
    "class InvertedIndex:\n",
    "    def __init__(self):\n",
    "        self.index = defaultdict(set)\n",
    "        self.documents = {}\n",
    "\n",
    "    def add_document(self, doc_id, content):\n",
    "        self.documents[doc_id] = content\n",
    "        words = re.findall(r'\\w+', content.lower())\n",
    "        for word in words:\n",
    "            self.index[word].add(doc_id)\n",
    "\n",
    "    def search(self, query):\n",
    "        words = re.findall(r'\\w+', query.lower())\n",
    "        result = set()\n",
    "        for word in words:\n",
    "            result = result.union(self.index[word])\n",
    "        return result\n",
    "\n",
    "# Example usage\n",
    "if __name__ == \"__main__\":\n",
    "    inverted_index = InvertedIndex()\n",
    "\n",
    "    # Adding documents\n",
    "    inverted_index.add_document(1, \"The quick brown fox jumps over the lazy dog\")\n",
    "    inverted_index.add_document(2, \"The lazy dog sleeps all day\")\n",
    "    inverted_index.add_document(3, \"The quick rabbit runs fast\")\n",
    "\n",
    "    # Searching\n",
    "    query = \"quick animal\"\n",
    "    result = inverted_index.search(query)\n",
    "\n",
    "    print(f\"Documents matching the query '{query}':\")\n",
    "    for doc_id in result:\n",
    "        print(f\"Document {doc_id}: {inverted_index.documents[doc_id]}\")"
   ]
  },
  {
   "cell_type": "code",
   "execution_count": null,
   "id": "244533d3",
   "metadata": {},
   "outputs": [],
   "source": []
  }
 ],
 "metadata": {
  "kernelspec": {
   "display_name": "Python 3 (ipykernel)",
   "language": "python",
   "name": "python3"
  },
  "language_info": {
   "codemirror_mode": {
    "name": "ipython",
    "version": 3
   },
   "file_extension": ".py",
   "mimetype": "text/x-python",
   "name": "python",
   "nbconvert_exporter": "python",
   "pygments_lexer": "ipython3",
   "version": "3.11.5"
  }
 },
 "nbformat": 4,
 "nbformat_minor": 5
}
