{
 "cells": [
  {
   "cell_type": "markdown",
   "id": "d0ff2739",
   "metadata": {},
   "source": [
    "Name : Mansi Baviskar<br>\n",
    "Roll No. : 42505<br>\n",
    "Branch : B.E AI&DS<br>\n",
    "Batch : B1<br>\n",
    "Computer Laboratory II : Information Retrieval"
   ]
  },
  {
   "cell_type": "markdown",
   "id": "b263cd67",
   "metadata": {},
   "source": [
    "Assignment 1 : Write a program for pre-processing of a text document such as stop word removal, stemming"
   ]
  },
  {
   "cell_type": "code",
   "execution_count": 1,
   "id": "a69924ea",
   "metadata": {
    "scrolled": true
   },
   "outputs": [
    {
     "name": "stdout",
     "output_type": "stream",
     "text": [
      "Requirement already satisfied: nltk in c:\\users\\mukul\\anaconda3\\lib\\site-packages (3.8.1)\n",
      "Requirement already satisfied: click in c:\\users\\mukul\\anaconda3\\lib\\site-packages (from nltk) (8.0.4)\n",
      "Requirement already satisfied: joblib in c:\\users\\mukul\\anaconda3\\lib\\site-packages (from nltk) (1.2.0)\n",
      "Requirement already satisfied: regex>=2021.8.3 in c:\\users\\mukul\\anaconda3\\lib\\site-packages (from nltk) (2022.7.9)\n",
      "Requirement already satisfied: tqdm in c:\\users\\mukul\\anaconda3\\lib\\site-packages (from nltk) (4.65.0)\n",
      "Requirement already satisfied: colorama in c:\\users\\mukul\\anaconda3\\lib\\site-packages (from click->nltk) (0.4.6)\n"
     ]
    }
   ],
   "source": [
    "!pip install nltk"
   ]
  },
  {
   "cell_type": "markdown",
   "id": "30300055",
   "metadata": {},
   "source": [
    "Stopword Removal"
   ]
  },
  {
   "cell_type": "code",
   "execution_count": 2,
   "id": "8923adcd",
   "metadata": {},
   "outputs": [
    {
     "name": "stdout",
     "output_type": "stream",
     "text": [
      "['This', 'is', 'a', 'sample', 'sentence', ',', 'showing', 'off', 'the', 'stop', 'words', 'filtration', '.']\n",
      "['This', 'sample', 'sentence', ',', 'showing', 'stop', 'words', 'filtration', '.']\n"
     ]
    }
   ],
   "source": [
    "from nltk.corpus import stopwords\n",
    "from nltk.tokenize import word_tokenize\n",
    "\n",
    "example_sent = \"\"\"This is a sample sentence,\n",
    "                showing off the stop words filtration.\"\"\"\n",
    "\n",
    "stop_words = set(stopwords.words('english'))\n",
    "\n",
    "word_tokens = word_tokenize(example_sent)\n",
    "# converts the words in word_tokens to lower case and then checks whether\n",
    "#they are present in stop_words or not\n",
    "filtered_sentence = [w for w in word_tokens if not w.lower() in stop_words]\n",
    "#with no lower case conversion\n",
    "filtered_sentence = []\n",
    "\n",
    "for w in word_tokens:\n",
    "    if w not in stop_words:\n",
    "        filtered_sentence.append(w)\n",
    "\n",
    "print(word_tokens)\n",
    "print(filtered_sentence)"
   ]
  },
  {
   "cell_type": "markdown",
   "id": "9d9c9c33",
   "metadata": {},
   "source": [
    "Stemming"
   ]
  },
  {
   "cell_type": "code",
   "execution_count": 3,
   "id": "84b98dc6",
   "metadata": {},
   "outputs": [
    {
     "name": "stdout",
     "output_type": "stream",
     "text": [
      "['the quick brown fox jump over the lazi dog', 'python is a high-level program languag', 'data scienc is an interdisciplinari field']\n"
     ]
    }
   ],
   "source": [
    "import nltk\n",
    "from nltk.stem import PorterStemmer\n",
    "from nltk.tokenize import word_tokenize\n",
    "\n",
    "# Sample dataset\n",
    "dataset = [\"The quick brown fox jumps over the lazy dog\",\n",
    "           \"Python is a high-level programming language\",\n",
    "           \"Data science is an interdisciplinary field\"]\n",
    "\n",
    "# Initialize the stemmer\n",
    "stemmer = PorterStemmer()\n",
    "\n",
    "# Perform stemming on the dataset\n",
    "stemmed_dataset = []\n",
    "for sentence in dataset:\n",
    "    words = word_tokenize(sentence)\n",
    "    stemmed_words = [stemmer.stem(word) for word in words]\n",
    "    stemmed_sentence = \" \".join(stemmed_words)\n",
    "    stemmed_dataset.append(stemmed_sentence)\n",
    "\n",
    "# Print the stemmed dataset\n",
    "print(stemmed_dataset)"
   ]
  },
  {
   "cell_type": "code",
   "execution_count": 9,
   "id": "89153827",
   "metadata": {},
   "outputs": [
    {
     "name": "stdout",
     "output_type": "stream",
     "text": [
      "Documents matching the query 'quick':\n",
      "Document 1: The quick brown fox jumps over the lazy dog\n",
      "Document 3: The quick rabbit runs fast\n"
     ]
    }
   ],
   "source": [
    "from collections import defaultdict\n",
    "import re\n",
    "\n",
    "class InvertedIndex:\n",
    "    def __init__(self):\n",
    "        self.index = defaultdict(set)\n",
    "        self.documents = {}\n",
    "\n",
    "    def add_document(self, doc_id, content):\n",
    "        self.documents[doc_id] = content\n",
    "        words = re.findall(r'\\w+', content.lower())\n",
    "        for word in words:\n",
    "            self.index[word].add(doc_id)\n",
    "\n",
    "    def search(self, query):\n",
    "        words = re.findall(r'\\w+', query.lower())\n",
    "        result = set()\n",
    "        for word in words:\n",
    "            result = result.union(self.index[word])\n",
    "        return result\n",
    "\n",
    "# Example usage\n",
    "if __name__ == \"__main__\":\n",
    "    inverted_index = InvertedIndex()\n",
    "\n",
    "    # Adding documents\n",
    "    inverted_index.add_document(1, \"The quick brown fox jumps over the lazy dog\")\n",
    "    inverted_index.add_document(2, \"The lazy dog sleeps all day\")\n",
    "    inverted_index.add_document(3, \"The quick rabbit runs fast\")\n",
    "\n",
    "    # Searching\n",
    "    query = \"quick\"\n",
    "    result = inverted_index.search(query)\n",
    "\n",
    "    print(f\"Documents matching the query '{query}':\")\n",
    "    for doc_id in result:\n",
    "        print(f\"Document {doc_id}: {inverted_index.documents[doc_id]}\")"
   ]
  },
  {
   "cell_type": "code",
   "execution_count": null,
   "id": "dc39410f",
   "metadata": {},
   "outputs": [],
   "source": []
  }
 ],
 "metadata": {
  "kernelspec": {
   "display_name": "Python 3 (ipykernel)",
   "language": "python",
   "name": "python3"
  },
  "language_info": {
   "codemirror_mode": {
    "name": "ipython",
    "version": 3
   },
   "file_extension": ".py",
   "mimetype": "text/x-python",
   "name": "python",
   "nbconvert_exporter": "python",
   "pygments_lexer": "ipython3",
   "version": "3.11.5"
  }
 },
 "nbformat": 4,
 "nbformat_minor": 5
}
