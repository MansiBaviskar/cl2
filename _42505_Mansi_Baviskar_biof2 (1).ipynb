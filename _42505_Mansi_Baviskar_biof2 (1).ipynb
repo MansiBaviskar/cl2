{
 "cells": [
  {
   "cell_type": "markdown",
   "id": "35eac58e",
   "metadata": {},
   "source": [
    "Name:Mansi Baviskar\n",
    "\n",
    "Roll No: 42505\n",
    "\n",
    "Bioinformatics Assignment 2\n",
    "\n",
    "RNA-Seq Data Analysis. Task: Analyze a provided RNA-Seq dataset and perform differential\n",
    "gene expression analysis. Deliverable: A detailed report presenting the differentially expressed genes, their\n",
    "functional annotations, and any potential biological interpretations\n"
   ]
  },
  {
   "cell_type": "code",
   "execution_count": 1,
   "id": "f71c8be8",
   "metadata": {},
   "outputs": [],
   "source": [
    "import pandas as pd \n",
    "import numpy as np\n",
    "from scipy.stats import ttest_ind\n",
    "from statsmodels.stats.multitest import multipletests"
   ]
  },
  {
   "cell_type": "code",
   "execution_count": 11,
   "id": "9cc1418f",
   "metadata": {},
   "outputs": [],
   "source": [
    "# Simulated RNA-Seq Data Generation\n",
    "np.random.seed(42)\n",
    "genes = [\"Gene1\", \"Gene2\", \"Gene3\", \"Gene4\"]\n",
    "sample1_counts = np.random.poisson(lam=100, size=10)  # 10 replicates for sample 1\n",
    "sample2_counts = np.random.poisson(lam=80, size=10)  # 10 replicates for sample 2\n"
   ]
  },
  {
   "cell_type": "code",
   "execution_count": 12,
   "id": "13961b94",
   "metadata": {},
   "outputs": [],
   "source": [
    "# Create a DataFrame for counts\n",
    "data = pd.DataFrame({\n",
    "    \"Gene\": genes,\n",
    "    \"Sample1_Counts\" : [np.random.poisson(lam=100, size=10) for _ in genes],\n",
    "    \"Sample2_Counts\" : [np.random.poisson(lam=80, size=10) for _ in genes]\n",
    "})"
   ]
  },
  {
   "cell_type": "markdown",
   "id": "04ff98d8",
   "metadata": {},
   "source": [
    "Preprocessing and Analysis"
   ]
  },
  {
   "cell_type": "code",
   "execution_count": 13,
   "id": "a1e3208f",
   "metadata": {},
   "outputs": [],
   "source": [
    "# Calculate mean counts for each gene\n",
    "data[\"Sample1_Mean\"] = [np.mean(counts) for counts in data[\"Sample1_Counts\"]]\n",
    "data[\"Sample2_Mean\"] = [np.mean(counts) for counts in data[\"Sample2_Counts\"]]"
   ]
  },
  {
   "cell_type": "code",
   "execution_count": 14,
   "id": "fb2278da",
   "metadata": {},
   "outputs": [],
   "source": [
    "# Differential Expression Analysis\n",
    "p_values = []\n",
    "for _, row in data.iterrows():\n",
    "    _, p_value = ttest_ind(row[\"Sample1_Counts\"], row[\"Sample2_Counts\"])\n",
    "    p_values.append(p_value)\n",
    "\n",
    "data[\"PValue\"] = p_values\n"
   ]
  },
  {
   "cell_type": "code",
   "execution_count": 15,
   "id": "7ef9b681",
   "metadata": {},
   "outputs": [],
   "source": [
    "# Correct p-values for multiple testing (e.g., using FDR)\n",
    "data[\"AdjPValue\"] = multipletests(data[\"PValue\"], method='fdr_bh')[1]\n"
   ]
  },
  {
   "cell_type": "code",
   "execution_count": 16,
   "id": "678684d7",
   "metadata": {},
   "outputs": [],
   "source": [
    "# Identify Differentially Expressed Genes\n",
    "differential_genes = data[data[\"AdjPValue\"] < 0.05]"
   ]
  },
  {
   "cell_type": "code",
   "execution_count": 17,
   "id": "14ec2093",
   "metadata": {},
   "outputs": [],
   "source": [
    "# Gene Annotations\n",
    "annotations = {\n",
    "    \"Gene1\": \"GO:0001234,GO:5678901\",\n",
    "    \"Gene2\": \"GO:2345678,GO:8901234\",\n",
    "    \"Gene3\": \"GO:1234567\",\n",
    "    \"Gene4\": \"GO:5678901,GO:2345678\"\n",
    "}\n"
   ]
  },
  {
   "cell_type": "code",
   "execution_count": 18,
   "id": "be5220ab",
   "metadata": {},
   "outputs": [],
   "source": [
    "# Functional Annotation and Biological Interpretation\n",
    "differential_genes[\"GO_Annotations\"] = differential_genes[\"Gene\"].map(annotations)"
   ]
  },
  {
   "cell_type": "code",
   "execution_count": 32,
   "id": "3d817b3a",
   "metadata": {},
   "outputs": [],
   "source": [
    "# Generating a Report\n",
    "report_lines = []\n",
    "report_lines.append(\"RNA-Seq Differential Expression Analysis Report\\n\")\n",
    "report_lines.append(\"=\"*50)\n",
    "report_lines.append(\"Summary of Analysis:\\n\")\n",
    "report_lines.append(\"The analysis was conducted to identify differentially expressed\")\n",
    "report_lines.append(\"=\"*50)\n",
    "report_lines.append(\"Differentially Expressed Genes:\\n\")\n",
    "if not differential_genes.empty:\n",
    "    report_lines.append(f\"{'Gene':<10}{'Mean Sample1':>15}{'Mean Sample2':>15}{'AdjPValue':>15}\")\n",
    "    report_lines.append(\"=\"*60)\n",
    "    for _, row in differential_genes.iterrows():\n",
    "        report_lines.append(f\"{row['Gene']:<10}{row['Sample1_Mean']:>15.2f}{row['Sample2_Mean']:>15.2f}{row['AdjPValue']:>15.4f}\")\n",
    "else:\n",
    "    report_lines.append(\"No genes were found to be differentially expressed.\\n\")\n",
    "\n",
    "report_lines.append(\"=\"*50)\n",
    "report_lines.append(\"Functional Annotations:\\n\")\n",
    "if not differential_genes.empty:\n",
    "    report_lines.append(f\"{'Gene':<10}{'GO Annotations':<30}\")\n",
    "    report_lines.append(\"=\"*40)\n",
    "    for _, row in differential_genes.iterrows():\n",
    "        go_terms = row[\"GO_Annotations\"] if pd.notna(row[\"GO_Annotations\"]) else \"No\"\n",
    "        report_lines.append(f\"{row['Gene']:<10}{go_terms:<30}\")\n",
    "else:\n",
    "    report_lines.append(\"No functional annotations available.\\n\")"
   ]
  },
  {
   "cell_type": "code",
   "execution_count": 33,
   "id": "fe747b31",
   "metadata": {},
   "outputs": [
    {
     "name": "stdout",
     "output_type": "stream",
     "text": [
      "Analysis report generated as 'RNA_SEQ_ANALYSIS.txt'.\n"
     ]
    }
   ],
   "source": [
    "# Save the report to a file\n",
    "with open(\"RNA_SEQ_ANALYSIS.txt\", \"w\") as report_file:\n",
    "    report_file.write(\"\\n\".join(report_lines))\n",
    "\n",
    "print(\"Analysis report generated as 'RNA_SEQ_ANALYSIS.txt'.\")"
   ]
  },
  {
   "cell_type": "markdown",
   "id": "29a7abc0",
   "metadata": {},
   "source": []
  },
  {
   "cell_type": "raw",
   "id": "dce70fe7",
   "metadata": {},
   "source": [
    "RNA-Seq Differential Expression Analysis Report\n",
    "\n",
    "==================================================\n",
    "Summary of Analysis:\n",
    "\n",
    "The analysis was conducted to identify differentially expressed\n",
    "==================================================\n",
    "Differentially Expressed Genes:\n",
    "\n",
    "Gene         Mean Sample1   Mean Sample2      AdjPValue\n",
    "============================================================\n",
    "Gene1               97.30          76.40         0.0005\n",
    "Gene2              102.20          84.60         0.0004\n",
    "Gene3              103.30          79.70         0.0003\n",
    "Gene4              102.20          80.20         0.0004\n",
    "==================================================\n",
    "Functional Annotations:\n",
    "\n",
    "Gene      GO Annotations                \n",
    "========================================\n",
    "Gene1     GO:0001234,GO:5678901         \n",
    "Gene2     GO:2345678,GO:8901234         \n",
    "Gene3     GO:1234567                    \n",
    "Gene4     GO:5678901,GO:2345678         "
   ]
  },
  {
   "cell_type": "code",
   "execution_count": null,
   "id": "b32db254",
   "metadata": {},
   "outputs": [],
   "source": []
  }
 ],
 "metadata": {
  "kernelspec": {
   "display_name": "Python 3 (ipykernel)",
   "language": "python",
   "name": "python3"
  },
  "language_info": {
   "codemirror_mode": {
    "name": "ipython",
    "version": 3
   },
   "file_extension": ".py",
   "mimetype": "text/x-python",
   "name": "python",
   "nbconvert_exporter": "python",
   "pygments_lexer": "ipython3",
   "version": "3.11.5"
  }
 },
 "nbformat": 4,
 "nbformat_minor": 5
}
